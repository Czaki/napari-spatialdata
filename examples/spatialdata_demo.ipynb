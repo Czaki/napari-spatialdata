{
 "cells": [
  {
   "cell_type": "markdown",
   "metadata": {},
   "source": [
    "# Using Napari-SpatialData "
   ]
  },
  {
   "cell_type": "markdown",
   "metadata": {},
   "source": [
    "This tutorial shows load SpatialData objects into the Napari-Spatialdata plugin, and use it with the \"View\" and \"Scatter\" widgets for visualising important coordinates."
   ]
  },
  {
   "cell_type": "markdown",
   "metadata": {},
   "source": [
    "### 1. Import packages and data"
   ]
  },
  {
   "cell_type": "markdown",
   "metadata": {},
   "source": [
    "To run the notebook locally, create a conda environment as <em>conda env create -f environment.yml </em> using this file: (ADD LINK).\n",
    "\n",
    "Insert the file path of the dataset in the <em>FILE_PATH</em> variable below."
   ]
  },
  {
   "cell_type": "code",
   "execution_count": 3,
   "metadata": {},
   "outputs": [],
   "source": [
    "from napari_spatialdata._interactive import Interactive\n",
    "from spatialdata import SpatialData\n",
    "import matplotlib.pyplot as plt\n",
    "\n",
    "FILE_PATH = \"../../data/cosmx/data.zarr\" # Change this\n",
    "sdata = SpatialData.read(FILE_PATH)"
   ]
  },
  {
   "cell_type": "markdown",
   "metadata": {},
   "source": [
    "The cell above loads the dataset from the file path and creates a SpatialData object. This can be used with the class <em>Interactive</em> to visualise in napari."
   ]
  },
  {
   "cell_type": "markdown",
   "metadata": {},
   "source": [
    "### 2. Visualise in napari"
   ]
  },
  {
   "cell_type": "markdown",
   "metadata": {},
   "source": [
    "We can instantiate the <em>Interactive </em> class with our SpatialData object, and view it in Napari."
   ]
  },
  {
   "cell_type": "code",
   "execution_count": 10,
   "metadata": {},
   "outputs": [],
   "source": [
    "interactive = Interactive(sdata)\n",
    "interactive.run()\n",
    "#interactive._viewer.screenshot()"
   ]
  },
  {
   "cell_type": "markdown",
   "metadata": {},
   "source": [
    "The SpatialData widget is in the bottom left hand corner. Selecting a coordinate system will display the associated elements in the next box. Then, double clicking on one of the elements will load it as a layer to the napari viewer."
   ]
  },
  {
   "attachments": {},
   "cell_type": "markdown",
   "metadata": {},
   "source": [
    "<div>\n",
    "<img src=\"images/spatialdata_menu.png\" width=\"250\"/>\n",
    "</div>"
   ]
  },
  {
   "cell_type": "code",
   "execution_count": null,
   "metadata": {},
   "outputs": [],
   "source": [
    "plt.imshow(interactive._viewer.screenshot(canvas_only=False))\n",
    "plt.axis('off')"
   ]
  },
  {
   "cell_type": "code",
   "execution_count": null,
   "metadata": {},
   "outputs": [],
   "source": [
    "#plt.imshow(interactive._viewer.show())"
   ]
  },
  {
   "cell_type": "markdown",
   "metadata": {},
   "source": [
    "### 3. Load axis with the view widget"
   ]
  },
  {
   "cell_type": "markdown",
   "metadata": {},
   "source": [
    "Napari-SpatialData also comes with a \"View\" widget that can be used to load <em>obs</em>, <em>var</em> or <em>obsm</em>. For example, if we select an observation called \"Area\" from the \"View\" widget, it loads it as a layer into the napari viewer.\n",
    "\n",
    "In the example below, we've selected the element, 26_labels, then, we've opened the View Widget to load the gene expression, \"AATK\". This adds it as a new layer into napari. "
   ]
  },
  {
   "attachments": {},
   "cell_type": "markdown",
   "metadata": {},
   "source": [
    "<div>\n",
    "<img src=\"images/view_widget.png\" width=\"500\"/>\n",
    "</div>"
   ]
  },
  {
   "cell_type": "markdown",
   "metadata": {},
   "source": [
    "### 4. Load axis into scatter widget"
   ]
  },
  {
   "cell_type": "markdown",
   "metadata": {},
   "source": [
    "We can also use the available scatter widget to visualise points in 2D coordinates.\n",
    "\n",
    "In the example below, we've selected <em>obsm[\"global\"] </em>, with axis 0 in the x-axis and axis 1 in the y-axis. We're coloring each coordinate by <em>obs[\"cell_ID\"] </em>."
   ]
  },
  {
   "attachments": {},
   "cell_type": "markdown",
   "metadata": {},
   "source": [
    "<div>\n",
    "<img src=\"images/scatter_widget.png\" width=\"500\"/>\n",
    "</div>\n"
   ]
  },
  {
   "cell_type": "markdown",
   "metadata": {},
   "source": [
    "The \"Scatter\" widget also offers an interactive feature. We can draw on the scatterplot to select clusters of interest. \n",
    "\n",
    "In the example below, we've selected a cluster on top left side. The selected points is less transparent than the the other non-selected points."
   ]
  },
  {
   "attachments": {},
   "cell_type": "markdown",
   "metadata": {},
   "source": [
    "<div>\n",
    "<img src=\"images/lasso_selection.png\" width=\"300\"/>\n",
    "</div>"
   ]
  },
  {
   "cell_type": "markdown",
   "metadata": {},
   "source": [
    "After selecting a cluster, we can also click on the \"Export\" button to load it into AnnData. This can be viewed again in the Napari viewer.\n",
    "\n",
    "In the example below, once we've selected the \"Export\" button, it is available in the \"View\" widget in obs as \"26_labels_LASSO_SELECTED\"."
   ]
  },
  {
   "attachments": {},
   "cell_type": "markdown",
   "metadata": {},
   "source": [
    "<div>\n",
    "<img src=\"images/exported_data_menu.png\" width=\"200\"/>\n",
    "</div>"
   ]
  },
  {
   "cell_type": "markdown",
   "metadata": {},
   "source": [
    "Selecting on \"26_labels_LASSO_SELECTED\" loads it into the napari viewer as a layer, where only the relevant labels are highlighted."
   ]
  },
  {
   "attachments": {},
   "cell_type": "markdown",
   "metadata": {},
   "source": [
    "<div>\n",
    "<img src=\"images/exported_data_viewer.png\" width=\"500\"/>\n",
    "</div>"
   ]
  }
 ],
 "metadata": {
  "kernelspec": {
   "display_name": "Python 3 (ipykernel)",
   "language": "python",
   "name": "python3"
  },
  "language_info": {
   "codemirror_mode": {
    "name": "ipython",
    "version": 3
   },
   "file_extension": ".py",
   "mimetype": "text/x-python",
   "name": "python",
   "nbconvert_exporter": "python",
   "pygments_lexer": "ipython3",
   "version": "3.9.16"
  }
 },
 "nbformat": 4,
 "nbformat_minor": 4
}
